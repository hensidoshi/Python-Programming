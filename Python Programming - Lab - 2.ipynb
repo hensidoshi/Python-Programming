{
 "cells": [
  {
   "cell_type": "markdown",
   "metadata": {},
   "source": [
    "\n",
    "<a href='https://www.darshan.ac.in/'> <img src='https://www.darshan.ac.in/Content/media/DU_Logo.svg' width=\"250\" height=\"300\"/></a>\n",
    "<pre>\n",
    "<center><b><h1>Python Programming - 2101CS405</b></center>\n",
    "<center><b><h1>Lab - 2</b></center>    \n",
    "<pre>"
   ]
  },
  {
   "cell_type": "markdown",
   "metadata": {},
   "source": [
    "# if..else.."
   ]
  },
  {
   "cell_type": "markdown",
   "metadata": {},
   "source": [
    "### 01) WAP to check whether the given number is positive or negative."
   ]
  },
  {
   "cell_type": "code",
   "execution_count": 4,
   "metadata": {},
   "outputs": [
    {
     "name": "stdin",
     "output_type": "stream",
     "text": [
      "Enter number :  -5\n"
     ]
    },
    {
     "name": "stdout",
     "output_type": "stream",
     "text": [
      "Number is negative\n"
     ]
    }
   ],
   "source": [
    "n=int(input(\"Enter number : \"));\n",
    "if(n>0) :\n",
    "    print(\"Number is postivie\");\n",
    "else :\n",
    "    print(\"Number is negative\");"
   ]
  },
  {
   "cell_type": "markdown",
   "metadata": {},
   "source": [
    "### 02) WAP to check whether the given number is odd or even"
   ]
  },
  {
   "cell_type": "code",
   "execution_count": 6,
   "metadata": {},
   "outputs": [
    {
     "name": "stdin",
     "output_type": "stream",
     "text": [
      "Enter number :  10\n"
     ]
    },
    {
     "name": "stdout",
     "output_type": "stream",
     "text": [
      "Number is Even\n"
     ]
    }
   ],
   "source": [
    "n=int(input(\"Enter number : \"));\n",
    "if(n%2==0) :\n",
    "    print(\"Number is Even\");\n",
    "else :\n",
    "    print(\"Number is Odd\");"
   ]
  },
  {
   "cell_type": "markdown",
   "metadata": {},
   "source": [
    "### 03) WAP to find out largest number from given two numbers using simple if and ternary operator."
   ]
  },
  {
   "cell_type": "code",
   "execution_count": 9,
   "metadata": {},
   "outputs": [
    {
     "name": "stdin",
     "output_type": "stream",
     "text": [
      "Enter a number :  5\n",
      "Enter b number :  7\n"
     ]
    },
    {
     "name": "stdout",
     "output_type": "stream",
     "text": [
      "B is largest number\n"
     ]
    },
    {
     "name": "stdin",
     "output_type": "stream",
     "text": [
      "Enter a number :  5\n",
      "Enter b number :  7\n"
     ]
    },
    {
     "name": "stdout",
     "output_type": "stream",
     "text": [
      "7\n"
     ]
    }
   ],
   "source": [
    "a=int(input(\"Enter a number : \"));\n",
    "b=int(input(\"Enter b number : \"));\n",
    "if(a>b) :\n",
    "    print(\"A is largest number\");\n",
    "else : \n",
    "    print(\"B is largest number\");\n",
    "\n",
    "a=int(input(\"Enter a number : \"));\n",
    "b=int(input(\"Enter b number : \"));\n",
    "max= a if a>b else b\n",
    "print(max);"
   ]
  },
  {
   "cell_type": "markdown",
   "metadata": {},
   "source": [
    "### 04) WAP to find out largest number from given three numbers."
   ]
  },
  {
   "cell_type": "code",
   "execution_count": 11,
   "metadata": {},
   "outputs": [
    {
     "name": "stdin",
     "output_type": "stream",
     "text": [
      "Enter a number :  5\n",
      "Enter b number :  7\n",
      "Enter c number :  21\n"
     ]
    },
    {
     "name": "stdout",
     "output_type": "stream",
     "text": [
      "C is largest number\n"
     ]
    }
   ],
   "source": [
    "a=int(input(\"Enter a number : \"));\n",
    "b=int(input(\"Enter b number : \"));\n",
    "c=int(input(\"Enter c number : \"));\n",
    "if(a>b and a>c) :\n",
    "    print(\"A is largest number\");\n",
    "elif(b>a and b>c) : \n",
    "    print(\"B is largest number\");\n",
    "else : \n",
    "    print(\"C is largest number\");"
   ]
  },
  {
   "cell_type": "markdown",
   "metadata": {},
   "source": [
    "### 05) WAP to check whether the given year is leap year or not.\n",
    "[If a year can be divisible by 4 but not divisible by 100 then it is leap year but if it is divisible by 400 then it is leap year]"
   ]
  },
  {
   "cell_type": "code",
   "execution_count": 12,
   "metadata": {},
   "outputs": [
    {
     "name": "stdin",
     "output_type": "stream",
     "text": [
      "Enter a year :  2004\n"
     ]
    },
    {
     "name": "stdout",
     "output_type": "stream",
     "text": [
      "Leap year\n"
     ]
    }
   ],
   "source": [
    "year=int(input(\"Enter a year : \"));\n",
    "if(year%4==0 and year%100!=0 or year%400==0) :\n",
    "    print(\"Leap year\");\n",
    "else : \n",
    "    print(\"Not leap year\");"
   ]
  },
  {
   "cell_type": "markdown",
   "metadata": {},
   "source": [
    "### 06) WAP in python to display the name of the day according to the number given by the user"
   ]
  },
  {
   "cell_type": "code",
   "execution_count": 13,
   "metadata": {},
   "outputs": [
    {
     "name": "stdin",
     "output_type": "stream",
     "text": [
      "Enter a day :  5\n"
     ]
    },
    {
     "name": "stdout",
     "output_type": "stream",
     "text": [
      "Thursday\n"
     ]
    }
   ],
   "source": [
    "day=int(input(\"Enter a day : \"));\n",
    "if(day==1) : \n",
    "    print(\"Sunday\");\n",
    "elif(day==2) :\n",
    "    print(\"Monday\");\n",
    "elif(day==3) :\n",
    "    print(\"Tuesday\");\n",
    "elif(day==4) :\n",
    "    print(\"Wednesday\");\n",
    "elif(day==5) : \n",
    "    print(\"Thursday\");\n",
    "elif(day==6) :\n",
    "    print(\"Friday\");\n",
    "elif(day==7) :\n",
    "    print(\"Saturday\");\n",
    "else : \n",
    "    print(\"Invalid day\");"
   ]
  },
  {
   "cell_type": "markdown",
   "metadata": {},
   "source": [
    "### 07) WAP to implement simple calculator which performs (add,sub,mul,div) of two no. based on user input."
   ]
  },
  {
   "cell_type": "code",
   "execution_count": 17,
   "metadata": {},
   "outputs": [
    {
     "name": "stdin",
     "output_type": "stream",
     "text": [
      "Enter a number :  21\n",
      "Enter b number :  28\n",
      "Enter operation :  *\n"
     ]
    },
    {
     "name": "stdout",
     "output_type": "stream",
     "text": [
      "588\n"
     ]
    }
   ],
   "source": [
    "a=int(input(\"Enter a number : \"));\n",
    "b=int(input(\"Enter b number : \"));\n",
    "op=str(input(\"Enter operation : \"));\n",
    "if(op=='+') :\n",
    "    ans=a+b;\n",
    "    print(ans);\n",
    "elif(op=='-') :\n",
    "    ans=a-b;\n",
    "    print(ans);\n",
    "elif(op=='*') :\n",
    "    ans=a*b;\n",
    "    print(ans);\n",
    "elif(op=='/') :\n",
    "    ans=a/b;\n",
    "    print(ans);"
   ]
  },
  {
   "cell_type": "markdown",
   "metadata": {},
   "source": [
    "### 08) WAP to calculate electricity bill based on following criteria. Which takes the unit from the user.\n",
    "a. First 1 to 50 units – Rs. 2.60/unit</br>\n",
    "b. Next 50 to 100 units – Rs. 3.25/unit</br>\n",
    "c. Next 100 to 200 units – Rs. 5.26/unit</br>\n",
    "d. above 200 units – Rs. 8.45/unit"
   ]
  },
  {
   "cell_type": "code",
   "execution_count": 28,
   "metadata": {},
   "outputs": [
    {
     "name": "stdin",
     "output_type": "stream",
     "text": [
      "Enter unit :  25\n"
     ]
    },
    {
     "name": "stdout",
     "output_type": "stream",
     "text": [
      "65.0\n"
     ]
    }
   ],
   "source": [
    "unit=int(input(\"Enter unit : \"));\n",
    "if(unit >= 1 and unit <= 50) :\n",
    "    print(unit*2.60);\n",
    "elif(unit >= 51 and unit <= 100) :\n",
    "    print((50*2.60)+((unit - 50)*3.25));\n",
    "elif(unit >= 101 and unit <= 200) :\n",
    "    print((50*2.60)+(50*3.25)+((unit-100)*5.26));\n",
    "elif(unit >= 201) :\n",
    "    print((50*2.60)+(50*3.25)+(100*5.26)+((unit-200)*8.45));"
   ]
  },
  {
   "cell_type": "markdown",
   "metadata": {},
   "source": [
    "## 01) WAP to read marks of five subjects. Calculate percentage and print class accordingly. \n",
    "Fail below 35 </br>\n",
    "Pass Class between 35 to 45 </br>\n",
    "Second Class</br>\n",
    "between 45 to 60</br>\n",
    "First Class between 60 to 70</br> \n",
    "Distinction if more than 70"
   ]
  },
  {
   "cell_type": "code",
   "execution_count": 26,
   "metadata": {},
   "outputs": [
    {
     "name": "stdin",
     "output_type": "stream",
     "text": [
      "Enter mark 1 :  25\n",
      "Enter mark 2 :  14\n",
      "Enter mark 3 :  19\n",
      "Enter mark 4 :  27\n",
      "Enter mark 5 :  18\n"
     ]
    },
    {
     "name": "stdout",
     "output_type": "stream",
     "text": [
      "First class\n"
     ]
    }
   ],
   "source": [
    "m1=int(input(\"Enter mark 1 : \"));\n",
    "m2=int(input(\"Enter mark 2 : \"));\n",
    "m3=int(input(\"Enter mark 3 : \"));\n",
    "m4=int(input(\"Enter mark 4 : \"));\n",
    "m5=int(input(\"Enter mark 5 : \"));\n",
    "total=m1+m2+m3+m4+m5;\n",
    "percentage=(total*100)/150;\n",
    "if(percentage>70) :\n",
    "    print(\"Distinction\");\n",
    "elif(percentage<69 and percentage>60) :\n",
    "    print(\"First class\");\n",
    "elif(percentage<59 and percentage>45) :\n",
    "    print(\"Second class\");\n",
    "elif(percentage<44 and percentage>35) :\n",
    "    print(\"Pass class\");\n",
    "else :\n",
    "    print(\"Fail\");"
   ]
  },
  {
   "cell_type": "markdown",
   "metadata": {},
   "source": [
    "### 02) WAP to find out the Maximum and Minimum number from given 4 numbers."
   ]
  },
  {
   "cell_type": "code",
   "execution_count": 30,
   "metadata": {},
   "outputs": [
    {
     "name": "stdin",
     "output_type": "stream",
     "text": [
      "Enter a :  5\n",
      "Enter b :  7\n",
      "Enter c :  21\n",
      "Enter d :  9\n"
     ]
    },
    {
     "name": "stdout",
     "output_type": "stream",
     "text": [
      "C is maximum\n",
      "A is minimum\n"
     ]
    }
   ],
   "source": [
    "a=int(input(\"Enter a : \"));\n",
    "b=int(input(\"Enter b : \"));\n",
    "c=int(input(\"Enter c : \"));\n",
    "d=int(input(\"Enter d : \"));\n",
    "if(a>b and a>c and a>d) : \n",
    "    print(\"A is maximum\");\n",
    "elif(b>a and b>c and b>d) :\n",
    "    print(\"B is maximum\");\n",
    "elif(c>a and c>b and c>d) :\n",
    "    print(\"C is maximum\");\n",
    "else :\n",
    "    print(\"D is maximum\");\n",
    "    \n",
    "if(a<b and a<c and a<c) : \n",
    "    print(\"A is minimum\");\n",
    "elif(b<a and b<c and b<c) :\n",
    "    print(\"B is minimum\");\n",
    "elif(c<a and c<b and c<d) :\n",
    "    print(\"C is minimum\");\n",
    "else : \n",
    "    print(\"D is minimum\");"
   ]
  },
  {
   "cell_type": "markdown",
   "metadata": {},
   "source": [
    "### 03) WAP to input an integer number and check the last digit of number is even or odd."
   ]
  },
  {
   "cell_type": "code",
   "execution_count": 33,
   "metadata": {},
   "outputs": [
    {
     "name": "stdin",
     "output_type": "stream",
     "text": [
      "Enter number :  210\n"
     ]
    },
    {
     "name": "stdout",
     "output_type": "stream",
     "text": [
      "Last digit is even\n"
     ]
    }
   ],
   "source": [
    "n=int(input(\"Enter number : \"));\n",
    "if((n%10)%2==0) :\n",
    "    print(\"Last digit is even\");\n",
    "else :\n",
    "    print(\"Last digit is odd\");"
   ]
  },
  {
   "cell_type": "markdown",
   "metadata": {},
   "source": [
    "### 04) WAP to determine the roots of the equation ax2+bx+c=0."
   ]
  },
  {
   "cell_type": "code",
   "execution_count": 1,
   "metadata": {},
   "outputs": [
    {
     "name": "stdin",
     "output_type": "stream",
     "text": [
      "Enter a :  7\n",
      "Enter b :  5\n",
      "Enter c :  8\n"
     ]
    },
    {
     "name": "stdout",
     "output_type": "stream",
     "text": [
      "Root 1: (-0.35714285714285715+1.0076239985475632j)\n",
      "Root 2: (-0.35714285714285715-1.0076239985475632j)\n"
     ]
    }
   ],
   "source": [
    "a=int(input(\"Enter a : \"));\n",
    "b=int(input(\"Enter b : \"));\n",
    "c=int(input(\"Enter c : \"));\n",
    "D=b**2-4*a*c\n",
    "if D>=0 :\n",
    "    root1=(-b+(D**0.5))/(2*a);\n",
    "    root2=(-b-(D**0.5))/(2*a);\n",
    "else :\n",
    "    real_part=-b/(2*a);\n",
    "    imaginary_part=(abs(D)**0.5)/(2*a);\n",
    "    root1=complex(real_part,imaginary_part);\n",
    "    root2=complex(real_part,-imaginary_part); \n",
    "print(\"Root 1:\",root1);\n",
    "print(\"Root 2:\",root2);"
   ]
  },
  {
   "cell_type": "code",
   "execution_count": null,
   "metadata": {},
   "outputs": [],
   "source": []
  }
 ],
 "metadata": {
  "kernelspec": {
   "display_name": "Python 3 (ipykernel)",
   "language": "python",
   "name": "python3"
  },
  "language_info": {
   "codemirror_mode": {
    "name": "ipython",
    "version": 3
   },
   "file_extension": ".py",
   "mimetype": "text/x-python",
   "name": "python",
   "nbconvert_exporter": "python",
   "pygments_lexer": "ipython3",
   "version": "3.12.1"
  }
 },
 "nbformat": 4,
 "nbformat_minor": 4
}
