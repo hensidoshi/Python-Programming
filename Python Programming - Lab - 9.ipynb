{
 "cells": [
  {
   "cell_type": "markdown",
   "metadata": {},
   "source": [
    "<a href='https://www.darshan.ac.in/'> <img src='https://www.darshan.ac.in/Content/media/DU_Logo.svg' width=\"250\" height=\"300\"/></a>\n",
    "<pre>\n",
    "<center><b><h1>Python Programming - 2101CS405</b></center>\n",
    "<center><b><h1>Lab - 9</b></center>    \n",
    "<pre>"
   ]
  },
  {
   "cell_type": "markdown",
   "metadata": {},
   "source": [
    "# Exception Handling"
   ]
  },
  {
   "cell_type": "markdown",
   "metadata": {},
   "source": [
    "# A"
   ]
  },
  {
   "cell_type": "markdown",
   "metadata": {},
   "source": [
    "### 01) WAP to handle divide by zero exception."
   ]
  },
  {
   "cell_type": "code",
   "execution_count": 1,
   "metadata": {},
   "outputs": [
    {
     "name": "stdin",
     "output_type": "stream",
     "text": [
      "Enter First Number:  43\n",
      "Enter Second Number:  0\n"
     ]
    },
    {
     "name": "stdout",
     "output_type": "stream",
     "text": [
      "division by zero\n"
     ]
    }
   ],
   "source": [
    "try:\n",
    "    n1=int(input(\"Enter First Number: \"))\n",
    "    n2=int(input(\"Enter Second Number: \"))\n",
    "    result=n1 / n2\n",
    "    print(result)\n",
    "except ValueError as e:\n",
    "    print(\"Invalid Input Please Input Integer...\")\n",
    "except ZeroDivisionError as e:\n",
    "    print(e)"
   ]
  },
  {
   "cell_type": "markdown",
   "metadata": {},
   "source": [
    "### 02)  Write a Python program that inputs a number and generates an error message if it is not a number."
   ]
  },
  {
   "cell_type": "code",
   "execution_count": 9,
   "metadata": {},
   "outputs": [
    {
     "name": "stdin",
     "output_type": "stream",
     "text": [
      "Input a number:  hensi\n"
     ]
    },
    {
     "name": "stdout",
     "output_type": "stream",
     "text": [
      "This is not a number\n",
      "invalid literal for int() with base 10: 'hensi'\n"
     ]
    }
   ],
   "source": [
    "try:\n",
    "    a=int(input(\"Enter a number: \"))\n",
    "except ValueError as e:\n",
    "        print(\"This is not a number\")\n",
    "        print(e)"
   ]
  },
  {
   "cell_type": "markdown",
   "metadata": {},
   "source": [
    "### 03) WAP to handle file not found Exception"
   ]
  },
  {
   "cell_type": "code",
   "execution_count": 28,
   "metadata": {},
   "outputs": [
    {
     "name": "stdin",
     "output_type": "stream",
     "text": [
      "Enter file name :  abc.txt\n"
     ]
    },
    {
     "name": "stdout",
     "output_type": "stream",
     "text": [
      "Fileobject:  <_io.TextIOWrapper name='abc.txt' mode='r' encoding='cp1252'>\n",
      "['Lorem ipsum dolor sit amet, consectetur adipiscing elit, \\n', 'sed do eiusmod tempor incididunt ut labore et dolore magna \\n', 'aliqua. Tristique sollicitudin nibh sit amet. Euismod elementum \\n', 'nisi quis eleifend quam adipiscing vitae. Feugiat in fermentum posuere \\n', 'urna nec tincidunt praesent. Sit amet consectetur adipiscing elit pellentesque \\n', 'habitant. Ut placerat orci nulla pellentesque dignissim. Laoreet id donec ultrices \\n', 'tincidunt arcu non sodales neque. Rhoncus dolor purus non enim. Cursus eget nunc \\n', 'scelerisque viverra. Scelerisque eu ultrices vitae auctor eu augue. Potenti nullam ac tortor vitae purus faucibus. Porttitor massa id neque aliquam vestibulum morbi blandit cursus risus. Dolor morbi non arcu risus quis varius. Lacus vestibulum sed arcu non odio euismod lacinia. Lobortis feugiat vivamus at augue eget arcu dictum varius. Fames ac turpis egestas maecenas. In nisl nisi scelerisque eu ultrices vitae auctor eu. Eget nunc scelerisque viverra mauris. Urna porttitor rhoncus dolor purus.']\n"
     ]
    }
   ],
   "source": [
    "try:\n",
    "    filename=input(\"Enter file name : \")\n",
    "    Fileobject=open(filename,\"r\")\n",
    "    print(\"Fileobject: \",Fileobject)\n",
    "except FileNotFoundError as e:\n",
    "    print(\"File not found\")\n",
    "else:\n",
    "    print(Fileobject.readlines())"
   ]
  },
  {
   "cell_type": "markdown",
   "metadata": {},
   "source": [
    "### 04) WAP to handle type Exception."
   ]
  },
  {
   "cell_type": "code",
   "execution_count": 57,
   "metadata": {},
   "outputs": [
    {
     "name": "stdin",
     "output_type": "stream",
     "text": [
      "Enter x :  10\n",
      "Enter y :  hensi\n"
     ]
    },
    {
     "name": "stdout",
     "output_type": "stream",
     "text": [
      "Cannot add an int and a str\n"
     ]
    }
   ],
   "source": [
    "try:\n",
    "    x=input(\"Enter x : \")\n",
    "    y=input(\"Enter y : \")\n",
    "    if x.isnumeric() and y.isnumeric():\n",
    "        z = int(x) + int(y)\n",
    "    else:\n",
    "        raise TypeError\n",
    "    print(z)\n",
    "except TypeError:\n",
    "\tprint(\"Cannot add an int and a str\")"
   ]
  },
  {
   "cell_type": "markdown",
   "metadata": {},
   "source": [
    "### 05) WAP to demonstrate valueError and indexError with example."
   ]
  },
  {
   "cell_type": "code",
   "execution_count": 61,
   "metadata": {},
   "outputs": [
    {
     "name": "stdin",
     "output_type": "stream",
     "text": [
      "Enter a number:  h\n"
     ]
    },
    {
     "name": "stdout",
     "output_type": "stream",
     "text": [
      "This is not a number\n",
      "invalid literal for int() with base 10: 'h'\n"
     ]
    },
    {
     "name": "stdin",
     "output_type": "stream",
     "text": [
      "Enter size :  3\n",
      "Enter element for list: 10\n",
      "Enter element for list: 20\n",
      "Enter element for list: 30\n"
     ]
    },
    {
     "name": "stdout",
     "output_type": "stream",
     "text": [
      "List is : [10, 20, 30]\n"
     ]
    },
    {
     "name": "stdin",
     "output_type": "stream",
     "text": [
      "Enter index:  5\n"
     ]
    },
    {
     "name": "stdout",
     "output_type": "stream",
     "text": [
      "Index is not found\n"
     ]
    }
   ],
   "source": [
    "#value error\n",
    "try:\n",
    "    a=int(input(\"Enter a number: \"))\n",
    "except ValueError as e:\n",
    "        print(\"This is not a number\")\n",
    "        print(e)\n",
    "\n",
    "#index error\n",
    "list=[]\n",
    "n=int(input(\"Enter size : \"))\n",
    "for i in range(0, n) :\n",
    "\tele=int(input(\"Enter element for list:\"))\n",
    "\tlist.append(ele)\n",
    "print(\"List is :\",list)\n",
    "try:\n",
    "    index=int(input(\"Enter index: \"))\n",
    "    result=list[index]\n",
    "    print(result)\n",
    "except IndexError as e:\n",
    "    print(\"Index is not found\")"
   ]
  },
  {
   "cell_type": "markdown",
   "metadata": {},
   "source": [
    "### 06) WAP to domonstrate else  and finally block."
   ]
  },
  {
   "cell_type": "code",
   "execution_count": 62,
   "metadata": {},
   "outputs": [
    {
     "name": "stdin",
     "output_type": "stream",
     "text": [
      "Enter x :  5\n",
      "Enter y :  10\n"
     ]
    },
    {
     "name": "stdout",
     "output_type": "stream",
     "text": [
      "15\n",
      "program is finished\n"
     ]
    }
   ],
   "source": [
    "try:\n",
    "    x=input(\"Enter x : \")\n",
    "    y=input(\"Enter y : \")\n",
    "    if x.isnumeric() and y.isnumeric():\n",
    "        z = int(x) + int(y)\n",
    "    else:\n",
    "        raise TypeError\n",
    "    print(z)\n",
    "except TypeError:\n",
    "\tprint(\"Cannot add an int and a str\")\n",
    "finally:\n",
    "    print(\"program is finished\")"
   ]
  },
  {
   "cell_type": "markdown",
   "metadata": {},
   "source": [
    "### 07) Create a short program that prompts the user for a list of grades separated by commas. Split the string into individual grades and use a list comprehension to convert each string to an integer. You should use a try statement to inform the user when the values they entered cannot be converted."
   ]
  },
  {
   "cell_type": "code",
   "execution_count": 2,
   "metadata": {},
   "outputs": [
    {
     "name": "stdin",
     "output_type": "stream",
     "text": [
      "Input some comma-separated numbers:  4,5,3,ab\n"
     ]
    },
    {
     "name": "stdout",
     "output_type": "stream",
     "text": [
      "List: ['4', '5', '3', 'ab']\n",
      "Tuple: ('4', '5', '3', 'ab')\n"
     ]
    }
   ],
   "source": [
    "values = input(\"Input some comma-separated numbers: \")\n",
    "items_list = values.split(\",\")\n",
    "items_tuple = tuple(items_list)\n",
    "print(\"List:\", items_list)\n",
    "print(\"Tuple:\", items_tuple)"
   ]
  },
  {
   "cell_type": "markdown",
   "metadata": {},
   "source": [
    "# B"
   ]
  },
  {
   "cell_type": "markdown",
   "metadata": {},
   "source": [
    "### 01) WAP to Raising User Generated Exception."
   ]
  },
  {
   "cell_type": "code",
   "execution_count": 5,
   "metadata": {},
   "outputs": [
    {
     "name": "stdin",
     "output_type": "stream",
     "text": [
      "Enter number :  -7\n"
     ]
    },
    {
     "name": "stdout",
     "output_type": "stream",
     "text": [
      "('Number is negative',)\n"
     ]
    }
   ],
   "source": [
    "class NegativeNumberException(Exception):\n",
    "    \"Raised when the input value is less than 0\"\n",
    "    def __init__(self,arg):\n",
    "        self.arg=arg\n",
    "try:\n",
    "    a=int(input(\"Enter number : \"))\n",
    "    if a>0:\n",
    "        print(a)\n",
    "    else:\n",
    "        raise NegativeNumberException(\"Number is negative\")\n",
    "except NegativeNumberException as e:\n",
    "    print(e.args)"
   ]
  },
  {
   "cell_type": "markdown",
   "metadata": {},
   "source": [
    "### 02) WAP to raise your custom Exception."
   ]
  },
  {
   "cell_type": "code",
   "execution_count": 7,
   "metadata": {},
   "outputs": [
    {
     "name": "stdin",
     "output_type": "stream",
     "text": [
      "Enter a age:  14\n"
     ]
    },
    {
     "name": "stdout",
     "output_type": "stream",
     "text": [
      "Exception occurred: Invalid Age\n"
     ]
    }
   ],
   "source": [
    "class InvalidAgeException(Exception):\n",
    "    \"Raised when the input value is less than 18\"\n",
    "    pass\n",
    "number=18\n",
    "try:\n",
    "    input_num = int(input(\"Enter a age: \"))\n",
    "    if input_num < number:\n",
    "        raise InvalidAgeException\n",
    "    else:\n",
    "        print(\"Eligible to Vote\")\n",
    "except InvalidAgeException:\n",
    "    print(\"Exception occurred: Invalid Age\")"
   ]
  },
  {
   "cell_type": "code",
   "execution_count": null,
   "metadata": {},
   "outputs": [],
   "source": []
  }
 ],
 "metadata": {
  "kernelspec": {
   "display_name": "Python 3 (ipykernel)",
   "language": "python",
   "name": "python3"
  },
  "language_info": {
   "codemirror_mode": {
    "name": "ipython",
    "version": 3
   },
   "file_extension": ".py",
   "mimetype": "text/x-python",
   "name": "python",
   "nbconvert_exporter": "python",
   "pygments_lexer": "ipython3",
   "version": "3.12.1"
  }
 },
 "nbformat": 4,
 "nbformat_minor": 4
}
