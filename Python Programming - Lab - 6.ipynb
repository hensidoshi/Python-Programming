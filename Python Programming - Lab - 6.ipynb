{
 "cells": [
  {
   "cell_type": "markdown",
   "metadata": {},
   "source": [
    "<a href='https://www.darshan.ac.in/'> <img src='https://www.darshan.ac.in/Content/media/DU_Logo.svg' width=\"250\" height=\"300\"/></a>\n",
    "<pre>\n",
    "<center><b><h1>Python Programming - 2101CS405</b></center>\n",
    "<center><b><h1>Lab - 6</b></center>    \n",
    "<pre>"
   ]
  },
  {
   "cell_type": "markdown",
   "metadata": {},
   "source": [
    "# Tuples, dictionary, set"
   ]
  },
  {
   "cell_type": "markdown",
   "metadata": {},
   "source": [
    "# A"
   ]
  },
  {
   "cell_type": "code",
   "execution_count": null,
   "metadata": {},
   "outputs": [],
   "source": [
    "Name : Doshi Hensi Vipulbhai\n",
    "Enrollment No : 23010101617"
   ]
  },
  {
   "cell_type": "markdown",
   "metadata": {},
   "source": [
    "### 01) WAP to sort python dictionary by key or value."
   ]
  },
  {
   "cell_type": "code",
   "execution_count": 2,
   "metadata": {},
   "outputs": [
    {
     "name": "stdin",
     "output_type": "stream",
     "text": [
      "Enter key :  8\n",
      "Enter value :  p\n",
      "Enter key :  5\n",
      "Enter value :  h\n",
      "Enter key :  2\n",
      "Enter value :  s\n",
      "Enter key :  3\n",
      "Enter value :  b\n",
      "Enter key :  9\n",
      "Enter value :  i\n"
     ]
    },
    {
     "name": "stdout",
     "output_type": "stream",
     "text": [
      "Original dictonary :  {'8': 'p', '5': 'h', '2': 's', '3': 'b', '9': 'i'}\n",
      "Sorted using key :  ['2', '3', '5', '8', '9']\n",
      "Sorted using value :  ['b', 'h', 'i', 'p', 's']\n"
     ]
    }
   ],
   "source": [
    "d1={};\n",
    "n=5;\n",
    "for i in range(n) :\n",
    "    a=input(\"Enter key : \");\n",
    "    d1[a]=input(\"Enter value : \");\n",
    "print(\"Original dictonary : \",d1);\n",
    "print(\"Sorted using key : \",sorted(d1.keys()));\n",
    "print(\"Sorted using value : \",sorted(d1.values()));"
   ]
  },
  {
   "cell_type": "markdown",
   "metadata": {},
   "source": [
    "### 02) WAP to merge two dictionaries given by user."
   ]
  },
  {
   "cell_type": "code",
   "execution_count": 1,
   "metadata": {},
   "outputs": [
    {
     "name": "stdin",
     "output_type": "stream",
     "text": [
      "Enter size :  2\n",
      "Enter key :  8\n",
      "Enter value :  p\n",
      "Enter key :  5\n",
      "Enter value :  h\n",
      "Enter size :  3\n",
      "Enter key :  1\n",
      "Enter value :  a\n",
      "Enter key :  2\n",
      "Enter value :  b\n",
      "Enter key :  3\n",
      "Enter value :  c\n"
     ]
    },
    {
     "name": "stdout",
     "output_type": "stream",
     "text": [
      "Original dictonary :  {'8': 'p', '5': 'h'}\n",
      "Original dictonary :  {'1': 'a', '2': 'b', '3': 'c'}\n",
      "None\n",
      "Merge dictonary :  {'8': 'p', '5': 'h', '1': 'a', '2': 'b', '3': 'c'}\n"
     ]
    }
   ],
   "source": [
    "d2={};\n",
    "d3={};\n",
    "n=int(input(\"Enter size : \"));\n",
    "for i in range(n) :\n",
    "    a=input(\"Enter key : \");\n",
    "    d2[a]=input(\"Enter value : \");\n",
    "n=int(input(\"Enter size : \"));\n",
    "for i in range(n) :\n",
    "    a=input(\"Enter key : \");\n",
    "    d3[a]=input(\"Enter value : \");\n",
    "print(\"Original dictonary : \",d2);\n",
    "print(\"Original dictonary : \",d3);\n",
    "print(d2.update(d3));\n",
    "print(\"Merge dictonary : \",d2);"
   ]
  },
  {
   "cell_type": "markdown",
   "metadata": {},
   "source": [
    "### 03) WAP to find tuples that have all elements divisible by K from a list of tuples."
   ]
  },
  {
   "cell_type": "code",
   "execution_count": 3,
   "metadata": {},
   "outputs": [
    {
     "name": "stdin",
     "output_type": "stream",
     "text": [
      "Enter k value :  3\n"
     ]
    },
    {
     "name": "stdout",
     "output_type": "stream",
     "text": [
      "[(3, 6), (9, 12)]\n"
     ]
    }
   ],
   "source": [
    "list1=[(1,2,3),(4,5,6),(7,8,9),(3,6),(9,12)];\n",
    "k=int(input(\"Enter k value : \"));\n",
    "result=[];\n",
    "for i in list1 :\n",
    "    c=0;\n",
    "    for j in i :\n",
    "        if(j%k==0) :\n",
    "            c+=1;\n",
    "        if(c==len(i)) :\n",
    "            result.append(i);\n",
    "print(str(result));    "
   ]
  },
  {
   "cell_type": "markdown",
   "metadata": {},
   "source": [
    "### 04) WAP to find Tuples with positive elements in List of tuples."
   ]
  },
  {
   "cell_type": "code",
   "execution_count": 4,
   "metadata": {},
   "outputs": [
    {
     "name": "stdout",
     "output_type": "stream",
     "text": [
      "[(1, 2, 3), (4, 5, 6), (7, 8, 9)]\n"
     ]
    }
   ],
   "source": [
    "list2=[(1,2,3),(4,5,6),(7,8,9),(0,-1,-2),(-4,-5,-6),(4,-5,6)];\n",
    "result=[];\n",
    "for i in list2 :\n",
    "    c=0;\n",
    "    for j in i :\n",
    "        if(j>0) :\n",
    "            c+=1;\n",
    "        if(c==len(i)):\n",
    "            result.append(i);\n",
    "print(str(result));   "
   ]
  },
  {
   "cell_type": "markdown",
   "metadata": {},
   "source": [
    "### 05) WAP which perform union of two sets."
   ]
  },
  {
   "cell_type": "code",
   "execution_count": 5,
   "metadata": {},
   "outputs": [
    {
     "name": "stdout",
     "output_type": "stream",
     "text": [
      "{1, 2, 3, 4, 5, 6, 7}\n"
     ]
    }
   ],
   "source": [
    "set1={1,2,3,4,5};\n",
    "set2={3,4,5,6,7};\n",
    "print(set1.union(set2));"
   ]
  },
  {
   "cell_type": "markdown",
   "metadata": {},
   "source": [
    "# B"
   ]
  },
  {
   "cell_type": "markdown",
   "metadata": {},
   "source": [
    "### 01) WAP to convert binary tuple into integer."
   ]
  },
  {
   "cell_type": "code",
   "execution_count": 6,
   "metadata": {},
   "outputs": [
    {
     "name": "stdout",
     "output_type": "stream",
     "text": [
      "The original tuple is :  (1, 1, 0, 1, 0, 0, 1)\n",
      "Decimal number is :  105\n"
     ]
    }
   ],
   "source": [
    "tuple1=(1, 1, 0, 1, 0, 0, 1);\n",
    "print(\"The original tuple is : \",str(tuple1));\n",
    "result=0;\n",
    "for ele in tuple1:\n",
    "\tresult=(result<<1)|ele;\n",
    "print(\"Decimal number is : \",str(result));"
   ]
  },
  {
   "cell_type": "markdown",
   "metadata": {},
   "source": [
    "### 02) WAP to count frequency in list by dictionary."
   ]
  },
  {
   "cell_type": "code",
   "execution_count": 7,
   "metadata": {},
   "outputs": [
    {
     "name": "stdout",
     "output_type": "stream",
     "text": [
      "{1: 2, 2: 2, 3: 2, 4: 2, 5: 2}\n"
     ]
    }
   ],
   "source": [
    "list3=[1,2,3,4,5,1,2,3,4,5];\n",
    "dic={}\n",
    "for i in list3 :\n",
    "    dic[i]=list3.count(i);\n",
    "print(dic);"
   ]
  },
  {
   "cell_type": "markdown",
   "metadata": {},
   "source": [
    "### 03) WAP to remove all the duplicate words from the list using dictionary."
   ]
  },
  {
   "cell_type": "code",
   "execution_count": 8,
   "metadata": {},
   "outputs": [
    {
     "name": "stdout",
     "output_type": "stream",
     "text": [
      "['a', 'b', 'c']\n"
     ]
    }
   ],
   "source": [
    "list4=[\"a\", \"b\", \"a\", \"c\", \"c\"]\n",
    "list4=list(dict.fromkeys(list4))\n",
    "print(list4)"
   ]
  },
  {
   "cell_type": "code",
   "execution_count": null,
   "metadata": {},
   "outputs": [],
   "source": []
  }
 ],
 "metadata": {
  "kernelspec": {
   "display_name": "Python 3 (ipykernel)",
   "language": "python",
   "name": "python3"
  },
  "language_info": {
   "codemirror_mode": {
    "name": "ipython",
    "version": 3
   },
   "file_extension": ".py",
   "mimetype": "text/x-python",
   "name": "python",
   "nbconvert_exporter": "python",
   "pygments_lexer": "ipython3",
   "version": "3.12.1"
  }
 },
 "nbformat": 4,
 "nbformat_minor": 4
}
