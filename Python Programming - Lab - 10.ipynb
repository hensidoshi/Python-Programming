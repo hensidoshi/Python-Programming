{
 "cells": [
  {
   "attachments": {},
   "cell_type": "markdown",
   "metadata": {},
   "source": [
    "<a href='https://www.darshan.ac.in/'> <img src='https://www.darshan.ac.in/Content/media/DU_Logo.svg' width=\"250\" height=\"300\"/></a>\n",
    "<pre>\n",
    "<center><b><h1>Python Programming - 2101CS405</b></center>\n",
    "<center><b><h1>Lab - 10</b></center>    \n",
    "<pre>"
   ]
  },
  {
   "cell_type": "markdown",
   "metadata": {},
   "source": [
    "# Modules"
   ]
  },
  {
   "cell_type": "markdown",
   "metadata": {},
   "source": [
    "# A"
   ]
  },
  {
   "cell_type": "markdown",
   "metadata": {},
   "source": [
    "### 01) WAP to create Calculator module which defines functions like add, sub,mul and div. create another file that uses the Calculator module."
   ]
  },
  {
   "cell_type": "code",
   "execution_count": 6,
   "metadata": {},
   "outputs": [
    {
     "name": "stdout",
     "output_type": "stream",
     "text": [
      "Please select operation -\n",
      "1. Add\n",
      "2. Subtract\n",
      "3. Multiply\n",
      "4. Divide\n",
      "\n"
     ]
    },
    {
     "name": "stdin",
     "output_type": "stream",
     "text": [
      "Select operations form 1, 2, 3, 4 : 1\n",
      "Enter first number:  5\n",
      "Enter second number:  7\n"
     ]
    },
    {
     "name": "stdout",
     "output_type": "stream",
     "text": [
      "5 + 7 = 12\n"
     ]
    }
   ],
   "source": [
    "def add(num1, num2):\n",
    "\treturn num1 + num2\n",
    "\n",
    "def subtract(num1, num2):\n",
    "\treturn num1 - num2\n",
    "\n",
    "def multiply(num1, num2):\n",
    "\treturn num1 * num2\n",
    "\n",
    "def divide(num1, num2):\n",
    "\treturn num1 / num2\n",
    "\n",
    "print(\"Please select operation -\\n\" \\\n",
    "\t\t\"1. Add\\n\" \\\n",
    "\t\t\"2. Subtract\\n\" \\\n",
    "\t\t\"3. Multiply\\n\" \\\n",
    "\t\t\"4. Divide\\n\")\n",
    "\n",
    "select = int(input(\"Select operations form 1, 2, 3, 4 :\"))\n",
    "\n",
    "number_1 = int(input(\"Enter first number: \"))\n",
    "number_2 = int(input(\"Enter second number: \"))\n",
    "\n",
    "if select == 1:\n",
    "\tprint(number_1, \"+\", number_2, \"=\",\n",
    "\t\t\t\t\tadd(number_1, number_2))\n",
    "\n",
    "elif select == 2:\n",
    "\tprint(number_1, \"-\", number_2, \"=\",\n",
    "\t\t\t\t\tsubtract(number_1, number_2))\n",
    "\n",
    "elif select == 3:\n",
    "\tprint(number_1, \"*\", number_2, \"=\",\n",
    "\t\t\t\t\tmultiply(number_1, number_2))\n",
    "\n",
    "elif select == 4:\n",
    "\tprint(number_1, \"/\", number_2, \"=\",\n",
    "\t\t\t\t\tdivide(number_1, number_2))\n",
    "else:\n",
    "\tprint(\"Invalid input\")"
   ]
  },
  {
   "cell_type": "markdown",
   "metadata": {},
   "source": [
    "### 02) WAP to Pick a random character from a given String."
   ]
  },
  {
   "cell_type": "code",
   "execution_count": 7,
   "metadata": {},
   "outputs": [
    {
     "name": "stdout",
     "output_type": "stream",
     "text": [
      "j\n"
     ]
    }
   ],
   "source": [
    "import string\n",
    "import random\n",
    "\n",
    "randomLetter = random.choice(string.ascii_letters)\n",
    "print(randomLetter)"
   ]
  },
  {
   "cell_type": "markdown",
   "metadata": {},
   "source": [
    "### 03) WAP to Pick a random element from a given list."
   ]
  },
  {
   "cell_type": "code",
   "execution_count": 9,
   "metadata": {},
   "outputs": [
    {
     "name": "stdout",
     "output_type": "stream",
     "text": [
      "Original list is : [1, 4, 5, 2, 7]\n",
      "Random selected number is : 4\n"
     ]
    }
   ],
   "source": [
    "import random\n",
    "list = [1, 4, 5, 2, 7]\n",
    "print(\"Original list is : \" + str(list))\n",
    "random_num = random.choice(list)\n",
    "print(\"Random selected number is : \" + str(random_num))"
   ]
  },
  {
   "cell_type": "markdown",
   "metadata": {},
   "source": [
    "### 04) WAP to demonstrate the use of the math module."
   ]
  },
  {
   "cell_type": "code",
   "execution_count": 1,
   "metadata": {},
   "outputs": [
    {
     "name": "stdout",
     "output_type": "stream",
     "text": [
      "2.718281828459045\n"
     ]
    }
   ],
   "source": [
    "import math \n",
    "print (math.e)"
   ]
  },
  {
   "cell_type": "markdown",
   "metadata": {},
   "source": [
    "### 05) WAP to demonstrate the use of date time module."
   ]
  },
  {
   "cell_type": "code",
   "execution_count": 2,
   "metadata": {},
   "outputs": [
    {
     "name": "stdout",
     "output_type": "stream",
     "text": [
      "Today's date is 2024-04-06\n"
     ]
    }
   ],
   "source": [
    "from datetime import date\n",
    "today = date.today()\n",
    "print(\"Today's date is\", today)"
   ]
  },
  {
   "cell_type": "markdown",
   "metadata": {},
   "source": [
    "# B"
   ]
  },
  {
   "cell_type": "markdown",
   "metadata": {},
   "source": [
    "### 01) WAP to Roll dice in such a way that every time you get the same number."
   ]
  },
  {
   "cell_type": "code",
   "execution_count": 2,
   "metadata": {},
   "outputs": [
    {
     "name": "stdout",
     "output_type": "stream",
     "text": [
      "Result of rolling the die: 6\n",
      "Result of rolling the die: 6\n",
      "Result of rolling the die: 6\n",
      "Result of rolling the die: 6\n",
      "Result of rolling the die: 6\n"
     ]
    }
   ],
   "source": [
    "import random\n",
    "def roll_dice():\n",
    "    return 6\n",
    "for _ in range(5):\n",
    "    result = roll_dice()\n",
    "    print(\"Result of rolling the die:\", result)"
   ]
  },
  {
   "cell_type": "markdown",
   "metadata": {},
   "source": [
    "### 02) WAP to generate 3 random integers between 100 and 999 which is divisible by 5."
   ]
  },
  {
   "cell_type": "code",
   "execution_count": 3,
   "metadata": {},
   "outputs": [
    {
     "name": "stdout",
     "output_type": "stream",
     "text": [
      "Random integers divisible by 5: [315, 535, 735]\n"
     ]
    }
   ],
   "source": [
    "import random\n",
    "def generate_random_divisible_by_5():\n",
    "    while True:\n",
    "        random_number = random.randint(100, 999)\n",
    "        if random_number % 5 == 0:\n",
    "            return random_number\n",
    "result = [generate_random_divisible_by_5() for _ in range(3)]\n",
    "print(\"Random integers divisible by 5:\", result)"
   ]
  },
  {
   "cell_type": "markdown",
   "metadata": {},
   "source": [
    "### 03) WAP to generate 100 random lottery tickets and pick two lucky tickets from it as a winner."
   ]
  },
  {
   "cell_type": "code",
   "execution_count": 4,
   "metadata": {},
   "outputs": [
    {
     "name": "stdout",
     "output_type": "stream",
     "text": [
      "List of all lottery tickets: [479831, 266706, 125161, 401194, 909549, 532320, 692094, 559967, 954955, 191327, 399658, 879173, 492920, 395766, 204305, 735066, 343631, 627401, 883139, 428420, 369490, 232618, 966965, 268796, 465941, 464312, 912735, 511720, 783910, 900584, 640610, 342411, 134040, 228335, 238602, 262418, 739437, 411039, 259020, 113264, 814801, 924788, 278119, 210934, 337844, 993480, 956029, 286694, 579517, 151010, 529803, 950624, 203614, 324986, 142697, 944624, 108123, 878209, 749988, 583988, 168208, 401258, 331231, 540911, 647684, 105194, 173258, 757065, 431299, 342915, 285742, 252495, 540774, 424027, 403546, 242960, 782614, 885640, 995794, 767166, 890037, 505242, 875030, 265706, 853800, 494596, 499045, 635614, 930425, 621152, 629542, 915422, 854051, 829033, 949977, 130899, 839312, 211590, 788243, 975206]\n",
      "Two lucky winners: [343631, 975206]\n"
     ]
    }
   ],
   "source": [
    "import random\n",
    "def generate_lottery_ticket():\n",
    "    return random.randint(100000, 999999)\n",
    "lottery_tickets = [generate_lottery_ticket() for _ in range(100)]\n",
    "winners = random.sample(lottery_tickets, 2)\n",
    "print(\"List of all lottery tickets:\", lottery_tickets)\n",
    "print(\"Two lucky winners:\", winners)"
   ]
  },
  {
   "cell_type": "markdown",
   "metadata": {},
   "source": [
    "### 04) WAP to print current date and time in Python."
   ]
  },
  {
   "cell_type": "code",
   "execution_count": 5,
   "metadata": {},
   "outputs": [
    {
     "name": "stdout",
     "output_type": "stream",
     "text": [
      "Current date and time: 2024-04-11 21:26:34.087766\n"
     ]
    }
   ],
   "source": [
    "import datetime\n",
    "current_datetime = datetime.datetime.now()\n",
    "print(\"Current date and time:\", current_datetime)"
   ]
  },
  {
   "cell_type": "markdown",
   "metadata": {},
   "source": [
    "### 05) Subtract a week (7 days) from a given date in Python."
   ]
  },
  {
   "cell_type": "code",
   "execution_count": 6,
   "metadata": {},
   "outputs": [
    {
     "name": "stdout",
     "output_type": "stream",
     "text": [
      "Given date: 2024-04-11 00:00:00\n",
      "New date after subtracting a week: 2024-04-04 00:00:00\n"
     ]
    }
   ],
   "source": [
    "import datetime\n",
    "given_date = datetime.datetime(2024, 4, 11)\n",
    "one_week_delta = datetime.timedelta(days=7)\n",
    "new_date = given_date - one_week_delta\n",
    "print(\"Given date:\", given_date)\n",
    "print(\"New date after subtracting a week:\", new_date)"
   ]
  },
  {
   "cell_type": "markdown",
   "metadata": {},
   "source": [
    "### 06) WAP to Calculate number of days between two given dates."
   ]
  },
  {
   "cell_type": "code",
   "execution_count": 7,
   "metadata": {},
   "outputs": [
    {
     "name": "stdout",
     "output_type": "stream",
     "text": [
      "Number of days between 2024-04-01 and 2024-04-11 is: 10\n"
     ]
    }
   ],
   "source": [
    "import datetime\n",
    "def days_between_dates(date1, date2):\n",
    "    delta = abs(date2 - date1)\n",
    "    return delta.days\n",
    "date1 = datetime.date(2024, 4, 1)\n",
    "date2 = datetime.date(2024, 4, 11)\n",
    "num_days = days_between_dates(date1, date2)\n",
    "print(\"Number of days between\", date1, \"and\", date2, \"is:\", num_days)"
   ]
  },
  {
   "cell_type": "markdown",
   "metadata": {},
   "source": [
    "### 07) WAP to Find the day of the week of a given date."
   ]
  },
  {
   "cell_type": "code",
   "execution_count": 8,
   "metadata": {},
   "outputs": [
    {
     "name": "stdout",
     "output_type": "stream",
     "text": [
      "The day of the week for 2024-04-11 is: Thursday\n"
     ]
    }
   ],
   "source": [
    "import datetime\n",
    "def day_of_week(date):\n",
    "    day_index = date.weekday()\n",
    "    days = [\"Monday\", \"Tuesday\", \"Wednesday\", \"Thursday\", \"Friday\", \"Saturday\", \"Sunday\"]\n",
    "    return days[day_index]\n",
    "given_date = datetime.date(2024, 4, 11)\n",
    "day = day_of_week(given_date)\n",
    "print(\"The day of the week for\", given_date, \"is:\", day)"
   ]
  },
  {
   "cell_type": "code",
   "execution_count": null,
   "metadata": {},
   "outputs": [],
   "source": []
  }
 ],
 "metadata": {
  "kernelspec": {
   "display_name": "Python 3 (ipykernel)",
   "language": "python",
   "name": "python3"
  },
  "language_info": {
   "codemirror_mode": {
    "name": "ipython",
    "version": 3
   },
   "file_extension": ".py",
   "mimetype": "text/x-python",
   "name": "python",
   "nbconvert_exporter": "python",
   "pygments_lexer": "ipython3",
   "version": "3.12.1"
  }
 },
 "nbformat": 4,
 "nbformat_minor": 4
}
