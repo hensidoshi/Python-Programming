{
 "cells": [
  {
   "cell_type": "markdown",
   "metadata": {},
   "source": [
    "<a href='https://www.darshan.ac.in/'> <img src='https://www.darshan.ac.in/Content/media/DU_Logo.svg' width=\"250\" height=\"300\"/></a>\n",
    "<pre>\n",
    "<center><b><h1>Python Programming - 2101CS405</b></center>\n",
    "<center><b><h1>Lab - 8</b></center>    \n",
    "<pre>"
   ]
  },
  {
   "cell_type": "markdown",
   "metadata": {},
   "source": [
    "# File handling"
   ]
  },
  {
   "cell_type": "markdown",
   "metadata": {},
   "source": [
    "# A"
   ]
  },
  {
   "cell_type": "markdown",
   "metadata": {},
   "source": [
    "### 01) WAP to read entire file named abc.txt"
   ]
  },
  {
   "cell_type": "code",
   "execution_count": 2,
   "metadata": {},
   "outputs": [
    {
     "name": "stdout",
     "output_type": "stream",
     "text": [
      "Lorem ipsum dolor sit amet, consectetur adipiscing elit, \n",
      "sed do eiusmod tempor incididunt ut labore et dolore magna \n",
      "aliqua. Tristique sollicitudin nibh sit amet. Euismod elementum \n",
      "nisi quis eleifend quam adipiscing vitae. Feugiat in fermentum posuere \n",
      "urna nec tincidunt praesent. Sit amet consectetur adipiscing elit pellentesque \n",
      "habitant. Ut placerat orci nulla pellentesque dignissim. Laoreet id donec ultrices \n",
      "tincidunt arcu non sodales neque. Rhoncus dolor purus non enim. Cursus eget nunc \n",
      "scelerisque viverra. Scelerisque eu ultrices vitae auctor eu augue. Potenti nullam ac tortor vitae purus faucibus. Porttitor massa id neque aliquam vestibulum morbi blandit cursus risus. Dolor morbi non arcu risus quis varius. Lacus vestibulum sed arcu non odio euismod lacinia. Lobortis feugiat vivamus at augue eget arcu dictum varius. Fames ac turpis egestas maecenas. In nisl nisi scelerisque eu ultrices vitae auctor eu. Eget nunc scelerisque viverra mauris. Urna porttitor rhoncus dolor purus.\n"
     ]
    }
   ],
   "source": [
    "file=open(\"abc.txt\",\"r\")\n",
    "print(\"\".join(file.readlines()))"
   ]
  },
  {
   "cell_type": "markdown",
   "metadata": {},
   "source": [
    "### 02) WAP to print program it self on console."
   ]
  },
  {
   "cell_type": "code",
   "execution_count": 4,
   "metadata": {},
   "outputs": [
    {
     "name": "stdout",
     "output_type": "stream",
     "text": [
      "{\n",
      " \"cells\": [\n",
      "  {\n",
      "   \"cell_type\": \"markdown\",\n",
      "   \"metadata\": {},\n",
      "   \"source\": [\n",
      "    \"<a href='https://www.darshan.ac.in/'> <img src='https://www.darshan.ac.in/Content/media/DU_Logo.svg' width=\\\"250\\\" height=\\\"300\\\"/></a>\\n\",\n",
      "    \"<pre>\\n\",\n",
      "    \"<center><b><h1>Python Programming - 2101CS405</b></center>\\n\",\n",
      "    \"<center><b><h1>Lab - 8</b></center>    \\n\",\n",
      "    \"<pre>\"\n",
      "   ]\n",
      "  },\n",
      "  {\n",
      "   \"cell_type\": \"markdown\",\n",
      "   \"metadata\": {},\n",
      "   \"source\": [\n",
      "    \"# File handling\"\n",
      "   ]\n",
      "  },\n",
      "  {\n",
      "   \"cell_type\": \"markdown\",\n",
      "   \"metadata\": {},\n",
      "   \"source\": [\n",
      "    \"# A\"\n",
      "   ]\n",
      "  },\n",
      "  {\n",
      "   \"cell_type\": \"markdown\",\n",
      "   \"metadata\": {},\n",
      "   \"source\": [\n",
      "    \"### 01) WAP to read entire file named abc.txt\"\n",
      "   ]\n",
      "  },\n",
      "  {\n",
      "   \"cell_type\": \"code\",\n",
      "   \"execution_count\": 2,\n",
      "   \"metadata\": {},\n",
      "   \"outputs\": [\n",
      "    {\n",
      "     \"name\": \"stdout\",\n",
      "     \"output_type\": \"stream\",\n",
      "     \"text\": [\n",
      "      \"Lorem ipsum dolor sit amet, consectetur adipiscing elit, \\n\",\n",
      "      \"sed do eiusmod tempor incididunt ut labore et dolore magna \\n\",\n",
      "      \"aliqua. Tristique sollicitudin nibh sit amet. Euismod elementum \\n\",\n",
      "      \"nisi quis eleifend quam adipiscing vitae. Feugiat in fermentum posuere \\n\",\n",
      "      \"urna nec tincidunt praesent. Sit amet consectetur adipiscing elit pellentesque \\n\",\n",
      "      \"habitant. Ut placerat orci nulla pellentesque dignissim. Laoreet id donec ultrices \\n\",\n",
      "      \"tincidunt arcu non sodales neque. Rhoncus dolor purus non enim. Cursus eget nunc \\n\",\n",
      "      \"scelerisque viverra. Scelerisque eu ultrices vitae auctor eu augue. Potenti nullam ac tortor vitae purus faucibus. Porttitor massa id neque aliquam vestibulum morbi blandit cursus risus. Dolor morbi non arcu risus quis varius. Lacus vestibulum sed arcu non odio euismod lacinia. Lobortis feugiat vivamus at augue eget arcu dictum varius. Fames ac turpis egestas maecenas. In nisl nisi scelerisque eu ultrices vitae auctor eu. Eget nunc scelerisque viverra mauris. Urna porttitor rhoncus dolor purus.\\n\"\n",
      "     ]\n",
      "    }\n",
      "   ],\n",
      "   \"source\": [\n",
      "    \"file=open(\\\"abc.txt\\\",\\\"r\\\")\\n\",\n",
      "    \"print(\\\"\\\".join(file.readlines()))\"\n",
      "   ]\n",
      "  },\n",
      "  {\n",
      "   \"cell_type\": \"markdown\",\n",
      "   \"metadata\": {},\n",
      "   \"source\": [\n",
      "    \"### 02) WAP to print program it self on console.\"\n",
      "   ]\n",
      "  },\n",
      "  {\n",
      "   \"cell_type\": \"code\",\n",
      "   \"execution_count\": 3,\n",
      "   \"metadata\": {},\n",
      "   \"outputs\": [\n",
      "    {\n",
      "     \"ename\": \"FileNotFoundError\",\n",
      "     \"evalue\": \"[Errno 2] No such file or directory: 'Lab-8-Helper.ipynb'\",\n",
      "     \"output_type\": \"error\",\n",
      "     \"traceback\": [\n",
      "      \"\\u001b[1;31m---------------------------------------------------------------------------\\u001b[0m\",\n",
      "      \"\\u001b[1;31mFileNotFoundError\\u001b[0m                         Traceback (most recent call last)\",\n",
      "      \"Cell \\u001b[1;32mIn[3], line 1\\u001b[0m\\n\\u001b[1;32m----> 1\\u001b[0m file\\u001b[38;5;241m=\\u001b[39m\\u001b[38;5;28;43mopen\\u001b[39;49m\\u001b[43m(\\u001b[49m\\u001b[38;5;124;43m\\\"\\u001b[39;49m\\u001b[38;5;124;43mLab-8-Helper.ipynb\\u001b[39;49m\\u001b[38;5;124;43m\\\"\\u001b[39;49m\\u001b[43m,\\u001b[49m\\u001b[38;5;124;43m\\\"\\u001b[39;49m\\u001b[38;5;124;43mr\\u001b[39;49m\\u001b[38;5;124;43m\\\"\\u001b[39;49m\\u001b[43m)\\u001b[49m\\n\\u001b[0;32m      2\\u001b[0m \\u001b[38;5;28mprint\\u001b[39m(file\\u001b[38;5;241m.\\u001b[39mread())\\n\",\n",
      "      \"File \\u001b[1;32m~\\\\AppData\\\\Local\\\\Programs\\\\Python\\\\Python312\\\\Lib\\\\site-packages\\\\IPython\\\\core\\\\interactiveshell.py:310\\u001b[0m, in \\u001b[0;36m_modified_open\\u001b[1;34m(file, *args, **kwargs)\\u001b[0m\\n\\u001b[0;32m    303\\u001b[0m \\u001b[38;5;28;01mif\\u001b[39;00m file \\u001b[38;5;129;01min\\u001b[39;00m {\\u001b[38;5;241m0\\u001b[39m, \\u001b[38;5;241m1\\u001b[39m, \\u001b[38;5;241m2\\u001b[39m}:\\n\\u001b[0;32m    304\\u001b[0m     \\u001b[38;5;28;01mraise\\u001b[39;00m \\u001b[38;5;167;01mValueError\\u001b[39;00m(\\n\\u001b[0;32m    305\\u001b[0m         \\u001b[38;5;124mf\\u001b[39m\\u001b[38;5;124m\\\"\\u001b[39m\\u001b[38;5;124mIPython won\\u001b[39m\\u001b[38;5;124m'\\u001b[39m\\u001b[38;5;124mt let you open fd=\\u001b[39m\\u001b[38;5;132;01m{\\u001b[39;00mfile\\u001b[38;5;132;01m}\\u001b[39;00m\\u001b[38;5;124m by default \\u001b[39m\\u001b[38;5;124m\\\"\\u001b[39m\\n\\u001b[0;32m    306\\u001b[0m         \\u001b[38;5;124m\\\"\\u001b[39m\\u001b[38;5;124mas it is likely to crash IPython. If you know what you are doing, \\u001b[39m\\u001b[38;5;124m\\\"\\u001b[39m\\n\\u001b[0;32m    307\\u001b[0m         \\u001b[38;5;124m\\\"\\u001b[39m\\u001b[38;5;124myou can use builtins\\u001b[39m\\u001b[38;5;124m'\\u001b[39m\\u001b[38;5;124m open.\\u001b[39m\\u001b[38;5;124m\\\"\\u001b[39m\\n\\u001b[0;32m    308\\u001b[0m     )\\n\\u001b[1;32m--> 310\\u001b[0m \\u001b[38;5;28;01mreturn\\u001b[39;00m \\u001b[43mio_open\\u001b[49m\\u001b[43m(\\u001b[49m\\u001b[43mfile\\u001b[49m\\u001b[43m,\\u001b[49m\\u001b[43m \\u001b[49m\\u001b[38;5;241;43m*\\u001b[39;49m\\u001b[43margs\\u001b[49m\\u001b[43m,\\u001b[49m\\u001b[43m \\u001b[49m\\u001b[38;5;241;43m*\\u001b[39;49m\\u001b[38;5;241;43m*\\u001b[39;49m\\u001b[43mkwargs\\u001b[49m\\u001b[43m)\\u001b[49m\\n\",\n",
      "      \"\\u001b[1;31mFileNotFoundError\\u001b[0m: [Errno 2] No such file or directory: 'Lab-8-Helper.ipynb'\"\n",
      "     ]\n",
      "    }\n",
      "   ],\n",
      "   \"source\": [\n",
      "    \"file=open(\\\"Python Programming - Lab - 8.ipynb\\\",\\\"r\\\")\\n\",\n",
      "    \"print(file.read())\"\n",
      "   ]\n",
      "  },\n",
      "  {\n",
      "   \"cell_type\": \"markdown\",\n",
      "   \"metadata\": {},\n",
      "   \"source\": [\n",
      "    \"### 03) WAP to read first 5 lines from the file named abc.txt\"\n",
      "   ]\n",
      "  },\n",
      "  {\n",
      "   \"cell_type\": \"code\",\n",
      "   \"execution_count\": null,\n",
      "   \"metadata\": {},\n",
      "   \"outputs\": [],\n",
      "   \"source\": []\n",
      "  },\n",
      "  {\n",
      "   \"cell_type\": \"markdown\",\n",
      "   \"metadata\": {},\n",
      "   \"source\": [\n",
      "    \"### 04) WAP to find the longest word in a file named abc.txt\"\n",
      "   ]\n",
      "  },\n",
      "  {\n",
      "   \"cell_type\": \"code\",\n",
      "   \"execution_count\": null,\n",
      "   \"metadata\": {},\n",
      "   \"outputs\": [],\n",
      "   \"source\": []\n",
      "  },\n",
      "  {\n",
      "   \"cell_type\": \"markdown\",\n",
      "   \"metadata\": {},\n",
      "   \"source\": [\n",
      "    \"### 05) WAP to find the size of the file named abc.txt\"\n",
      "   ]\n",
      "  },\n",
      "  {\n",
      "   \"cell_type\": \"code\",\n",
      "   \"execution_count\": null,\n",
      "   \"metadata\": {},\n",
      "   \"outputs\": [],\n",
      "   \"source\": []\n",
      "  },\n",
      "  {\n",
      "   \"cell_type\": \"markdown\",\n",
      "   \"metadata\": {},\n",
      "   \"source\": [\n",
      "    \"### 06) WAP to implement search function to search specific occurance of word in a given text file.\"\n",
      "   ]\n",
      "  },\n",
      "  {\n",
      "   \"cell_type\": \"code\",\n",
      "   \"execution_count\": null,\n",
      "   \"metadata\": {},\n",
      "   \"outputs\": [],\n",
      "   \"source\": []\n",
      "  },\n",
      "  {\n",
      "   \"cell_type\": \"markdown\",\n",
      "   \"metadata\": {},\n",
      "   \"source\": [\n",
      "    \"# B\"\n",
      "   ]\n",
      "  },\n",
      "  {\n",
      "   \"cell_type\": \"markdown\",\n",
      "   \"metadata\": {},\n",
      "   \"source\": [\n",
      "    \"### 01) WAP to write first 100 prime numbers to a file named primenumbers.txt \\n\",\n",
      "    \"(Note: each number should be in new line)\"\n",
      "   ]\n",
      "  },\n",
      "  {\n",
      "   \"cell_type\": \"code\",\n",
      "   \"execution_count\": null,\n",
      "   \"metadata\": {},\n",
      "   \"outputs\": [],\n",
      "   \"source\": []\n",
      "  },\n",
      "  {\n",
      "   \"cell_type\": \"markdown\",\n",
      "   \"metadata\": {},\n",
      "   \"source\": [\n",
      "    \"### 02) WAP to merge two files and write it in a new file.\"\n",
      "   ]\n",
      "  },\n",
      "  {\n",
      "   \"cell_type\": \"code\",\n",
      "   \"execution_count\": null,\n",
      "   \"metadata\": {},\n",
      "   \"outputs\": [],\n",
      "   \"source\": []\n",
      "  },\n",
      "  {\n",
      "   \"cell_type\": \"markdown\",\n",
      "   \"metadata\": {},\n",
      "   \"source\": [\n",
      "    \"### 03) WAP to encrypt a text file.\"\n",
      "   ]\n",
      "  },\n",
      "  {\n",
      "   \"cell_type\": \"code\",\n",
      "   \"execution_count\": null,\n",
      "   \"metadata\": {},\n",
      "   \"outputs\": [],\n",
      "   \"source\": []\n",
      "  },\n",
      "  {\n",
      "   \"cell_type\": \"markdown\",\n",
      "   \"metadata\": {},\n",
      "   \"source\": [\n",
      "    \"### 04) WAP to decrypt a previously encrypted file.\"\n",
      "   ]\n",
      "  },\n",
      "  {\n",
      "   \"cell_type\": \"code\",\n",
      "   \"execution_count\": null,\n",
      "   \"metadata\": {},\n",
      "   \"outputs\": [],\n",
      "   \"source\": []\n",
      "  },\n",
      "  {\n",
      "   \"cell_type\": \"markdown\",\n",
      "   \"metadata\": {},\n",
      "   \"source\": [\n",
      "    \"### 05) WAP to remove a word from text file.\"\n",
      "   ]\n",
      "  },\n",
      "  {\n",
      "   \"cell_type\": \"code\",\n",
      "   \"execution_count\": null,\n",
      "   \"metadata\": {},\n",
      "   \"outputs\": [],\n",
      "   \"source\": []\n",
      "  }\n",
      " ],\n",
      " \"metadata\": {\n",
      "  \"kernelspec\": {\n",
      "   \"display_name\": \"Python 3 (ipykernel)\",\n",
      "   \"language\": \"python\",\n",
      "   \"name\": \"python3\"\n",
      "  },\n",
      "  \"language_info\": {\n",
      "   \"codemirror_mode\": {\n",
      "    \"name\": \"ipython\",\n",
      "    \"version\": 3\n",
      "   },\n",
      "   \"file_extension\": \".py\",\n",
      "   \"mimetype\": \"text/x-python\",\n",
      "   \"name\": \"python\",\n",
      "   \"nbconvert_exporter\": \"python\",\n",
      "   \"pygments_lexer\": \"ipython3\",\n",
      "   \"version\": \"3.12.1\"\n",
      "  }\n",
      " },\n",
      " \"nbformat\": 4,\n",
      " \"nbformat_minor\": 4\n",
      "}\n",
      "\n"
     ]
    }
   ],
   "source": [
    "file=open(\"Python Programming - Lab - 8.ipynb\",\"r\")\n",
    "print(file.read())"
   ]
  },
  {
   "cell_type": "markdown",
   "metadata": {},
   "source": [
    "### 03) WAP to read first 5 lines from the file named abc.txt"
   ]
  },
  {
   "cell_type": "code",
   "execution_count": 5,
   "metadata": {},
   "outputs": [
    {
     "name": "stdin",
     "output_type": "stream",
     "text": [
      "Enter n :  5\n"
     ]
    },
    {
     "name": "stdout",
     "output_type": "stream",
     "text": [
      "Lorem ipsum dolor sit amet, consectetur adipiscing elit, \n",
      "\n",
      "sed do eiusmod tempor incididunt ut labore et dolore magna \n",
      "\n",
      "aliqua. Tristique sollicitudin nibh sit amet. Euismod elementum \n",
      "\n",
      "nisi quis eleifend quam adipiscing vitae. Feugiat in fermentum posuere \n",
      "\n",
      "urna nec tincidunt praesent. Sit amet consectetur adipiscing elit pellentesque \n",
      "\n"
     ]
    }
   ],
   "source": [
    "n=int(input(\"Enter n : \"))\n",
    "file=open(\"abc.txt\",\"r\")\n",
    "for i in range(n) :\n",
    "    print(file.readline())"
   ]
  },
  {
   "cell_type": "markdown",
   "metadata": {},
   "source": [
    "### 04) WAP to find the longest word in a file named abc.txt"
   ]
  },
  {
   "cell_type": "code",
   "execution_count": 6,
   "metadata": {},
   "outputs": [
    {
     "name": "stdout",
     "output_type": "stream",
     "text": [
      "sollicitudin\n"
     ]
    }
   ],
   "source": [
    "file=open(\"abc.txt\",\"r\")\n",
    "words=file.read().split(\" \")\n",
    "longest_words=words[0]\n",
    "for word in words :\n",
    "    if len(word) > len(longest_words) :\n",
    "        longest_words=word\n",
    "print(longest_words)"
   ]
  },
  {
   "cell_type": "markdown",
   "metadata": {},
   "source": [
    "### 05) WAP to find the size of the file named abc.txt"
   ]
  },
  {
   "cell_type": "code",
   "execution_count": 7,
   "metadata": {},
   "outputs": [
    {
     "data": {
      "text/plain": [
       "1007"
      ]
     },
     "execution_count": 7,
     "metadata": {},
     "output_type": "execute_result"
    }
   ],
   "source": [
    "import os\n",
    "os.stat(\"abc.txt\").st_size"
   ]
  },
  {
   "cell_type": "markdown",
   "metadata": {},
   "source": [
    "### 06) WAP to implement search function to search specific occurance of word in a given text file."
   ]
  },
  {
   "cell_type": "code",
   "execution_count": 19,
   "metadata": {},
   "outputs": [
    {
     "name": "stdin",
     "output_type": "stream",
     "text": [
      "Enter search word :  scelerisque\n"
     ]
    },
    {
     "name": "stdout",
     "output_type": "stream",
     "text": [
      "2\n"
     ]
    }
   ],
   "source": [
    "def count_word_occurrences(filename, target_word):\n",
    "    file = open(filename, \"r\")\n",
    "    words = file.read().split(\" \")\n",
    "    count = 0\n",
    "    for i in range(0, len(words)):\n",
    "        if (target_word == words[i]):\n",
    "            count = count + 1\n",
    "    return count\n",
    "\n",
    "word_to_count=input(\"Enter search word : \")\n",
    "filename=\"abc.txt\"\n",
    "print(count_word_occurrences(filename, word_to_count))"
   ]
  },
  {
   "cell_type": "markdown",
   "metadata": {},
   "source": [
    "# B"
   ]
  },
  {
   "cell_type": "markdown",
   "metadata": {},
   "source": [
    "### 01) WAP to write first 100 prime numbers to a file named primenumbers.txt \n",
    "(Note: each number should be in new line)"
   ]
  },
  {
   "cell_type": "code",
   "execution_count": 3,
   "metadata": {},
   "outputs": [],
   "source": [
    "def prime(n):\n",
    "    for i in range(2,100):\n",
    "        if n%i == 0:\n",
    "            return 0\n",
    "        return 1"
   ]
  },
  {
   "cell_type": "markdown",
   "metadata": {},
   "source": [
    "### 02) WAP to merge two files and write it in a new file."
   ]
  },
  {
   "cell_type": "code",
   "execution_count": 5,
   "metadata": {},
   "outputs": [],
   "source": [
    "f1 = open(\"abc.txt\",\"r\")\n",
    "f2 = open(\"abc.txt\",\"r\")\n",
    "file1 = f1.read();\n",
    "file2 = f2.read();\n",
    "f3 = open(\"File_3.txt\",\"w\")\n",
    "f3.write(file1+file2)\n",
    "f1.close();\n",
    "f2.close();\n",
    "f3.close();"
   ]
  },
  {
   "cell_type": "markdown",
   "metadata": {},
   "source": [
    "### 03) WAP to encrypt a text file."
   ]
  },
  {
   "cell_type": "code",
   "execution_count": null,
   "metadata": {},
   "outputs": [],
   "source": []
  },
  {
   "cell_type": "markdown",
   "metadata": {},
   "source": [
    "### 04) WAP to decrypt a previously encrypted file."
   ]
  },
  {
   "cell_type": "code",
   "execution_count": null,
   "metadata": {},
   "outputs": [],
   "source": []
  },
  {
   "cell_type": "markdown",
   "metadata": {},
   "source": [
    "### 05) WAP to remove a word from text file."
   ]
  },
  {
   "cell_type": "code",
   "execution_count": 12,
   "metadata": {},
   "outputs": [
    {
     "name": "stdin",
     "output_type": "stream",
     "text": [
      "Enter a word to delete:  lorem\n"
     ]
    },
    {
     "name": "stdout",
     "output_type": "stream",
     "text": [
      "Word not present in string.\n"
     ]
    }
   ],
   "source": [
    "f = open(\"abc.txt\",\"r\")\n",
    "data = input('Enter a word to delete: ')\n",
    "words = text.split()\n",
    "status = False\n",
    "for word in words:\n",
    "    if word == data:\n",
    "        words.remove(word)\n",
    "        status = True\n",
    "if status:\n",
    "    text = ' '.join(words)\n",
    "    print('String after deletion:', text)\n",
    "else:\n",
    "    print('Word not present in string.')"
   ]
  },
  {
   "cell_type": "code",
   "execution_count": null,
   "metadata": {},
   "outputs": [],
   "source": []
  }
 ],
 "metadata": {
  "kernelspec": {
   "display_name": "Python 3 (ipykernel)",
   "language": "python",
   "name": "python3"
  },
  "language_info": {
   "codemirror_mode": {
    "name": "ipython",
    "version": 3
   },
   "file_extension": ".py",
   "mimetype": "text/x-python",
   "name": "python",
   "nbconvert_exporter": "python",
   "pygments_lexer": "ipython3",
   "version": "3.12.1"
  }
 },
 "nbformat": 4,
 "nbformat_minor": 4
}
