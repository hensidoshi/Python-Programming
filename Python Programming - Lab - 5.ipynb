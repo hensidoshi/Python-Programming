{
 "cells": [
  {
   "cell_type": "markdown",
   "metadata": {},
   "source": [
    "\n",
    "<a href='https://www.darshan.ac.in/'> <img src='https://www.darshan.ac.in/Content/media/DU_Logo.svg' width=\"250\" height=\"300\"/></a>\n",
    "<pre>\n",
    "<center><b><h1>Python Programming - 2101CS405</b></center>\n",
    "<center><b><h1>Lab - 5</b></center>    \n",
    "<pre>"
   ]
  },
  {
   "cell_type": "code",
   "execution_count": null,
   "metadata": {},
   "outputs": [],
   "source": [
    "Doshi Hensi\n",
    "23010101617"
   ]
  },
  {
   "cell_type": "markdown",
   "metadata": {},
   "source": [
    "# list"
   ]
  },
  {
   "cell_type": "markdown",
   "metadata": {},
   "source": [
    "### 01) WAP to find sum of all the elements in List."
   ]
  },
  {
   "cell_type": "code",
   "execution_count": 4,
   "metadata": {},
   "outputs": [
    {
     "name": "stdin",
     "output_type": "stream",
     "text": [
      "Enter size :  3\n",
      "Enter element for list: 10\n",
      "Enter element for list: 20\n",
      "Enter element for list: 30\n"
     ]
    },
    {
     "name": "stdout",
     "output_type": "stream",
     "text": [
      "List is : [10, 20, 30]\n",
      "The sum of all elements :  60\n"
     ]
    }
   ],
   "source": [
    "list1=[];\n",
    "n=int(input(\"Enter size : \"));\n",
    "for i in range(0, n) :\n",
    "\tele=int(input(\"Enter element for list:\"));\n",
    "\tlist1.append(ele);\n",
    "print(\"List is :\",list1);\n",
    "total=0;\n",
    "for ele in range(0,len(list1)) :\n",
    "    total=total+list1[ele];\n",
    "print(\"The sum of all elements : \",total);"
   ]
  },
  {
   "cell_type": "markdown",
   "metadata": {},
   "source": [
    "### 02) WAP to find largest element in a List."
   ]
  },
  {
   "cell_type": "code",
   "execution_count": 5,
   "metadata": {},
   "outputs": [
    {
     "name": "stdin",
     "output_type": "stream",
     "text": [
      "Enter size :  5\n",
      "Enter element for list: 10\n",
      "Enter element for list: 24\n",
      "Enter element for list: 35\n",
      "Enter element for list: 78\n",
      "Enter element for list: 99\n"
     ]
    },
    {
     "name": "stdout",
     "output_type": "stream",
     "text": [
      "List is : [10, 24, 35, 78, 99]\n",
      "The largest element is :  99\n"
     ]
    }
   ],
   "source": [
    "list2=[];\n",
    "n=int(input(\"Enter size : \"));\n",
    "for i in range(0, n) :\n",
    "\tele=int(input(\"Enter element for list:\"));\n",
    "\tlist2.append(ele);\n",
    "print(\"List is :\",list2);\n",
    "print(\"The largest element is : \",max(list2));"
   ]
  },
  {
   "cell_type": "markdown",
   "metadata": {},
   "source": [
    "### 03) WAP to split the List into two and append the first part to the end."
   ]
  },
  {
   "cell_type": "code",
   "execution_count": 11,
   "metadata": {},
   "outputs": [
    {
     "name": "stdin",
     "output_type": "stream",
     "text": [
      "Enter size :  5\n",
      "Enter element for list: 10\n",
      "Enter element for list: 20\n",
      "Enter element for list: 30\n",
      "Enter element for list: 40\n",
      "Enter element for list: 50\n"
     ]
    },
    {
     "name": "stdout",
     "output_type": "stream",
     "text": [
      "List is : [10, 20, 30, 40, 50]\n",
      "A is [30, 40, 50]\n",
      "B is [10, 20]\n",
      "[30, 40, 50, 10, 20]\n"
     ]
    }
   ],
   "source": [
    "list3=[];\n",
    "n=int(input(\"Enter size : \"));\n",
    "for i in range(0, n) :\n",
    "\tele=int(input(\"Enter element for list :\"));\n",
    "\tlist3.append(ele);\n",
    "print(\"List is :\",list3);\n",
    "mid=len(list3)//2;\n",
    "a=list3[mid:];\n",
    "b=list3[:mid];\n",
    "print(\"A is : \",a);\n",
    "print(\"B is : \",b);\n",
    "result=a+b;\n",
    "print(result);"
   ]
  },
  {
   "cell_type": "markdown",
   "metadata": {},
   "source": [
    "### 04) WAP to interchange first and last elements in list entered by a user."
   ]
  },
  {
   "cell_type": "code",
   "execution_count": 10,
   "metadata": {},
   "outputs": [
    {
     "name": "stdin",
     "output_type": "stream",
     "text": [
      "Enter size :  5\n",
      "Enter element for list: 10\n",
      "Enter element for list: 24\n",
      "Enter element for list: 56\n",
      "Enter element for list: 89\n",
      "Enter element for list: 97\n"
     ]
    },
    {
     "name": "stdout",
     "output_type": "stream",
     "text": [
      "First and last element interchage before list:  [10, 24, 56, 89, 97]\n",
      "First and last element interchage after list:  [97, 24, 56, 89, 10]\n"
     ]
    }
   ],
   "source": [
    "list4=[];\n",
    "n=int(input(\"Enter size : \"));\n",
    "for i in range(0, n) :\n",
    "\tele=int(input(\"Enter element for list:\"));\n",
    "\tlist4.append(ele);\n",
    "print(\"First and last element interchage before list: \",list4);\n",
    "temp=list4[0];\n",
    "list4[0]=list4[len(list4)-1];\n",
    "list4[len(list4)-1]=temp;\n",
    "print(\"First and last element interchage after list: \",list4);"
   ]
  },
  {
   "cell_type": "markdown",
   "metadata": {},
   "source": [
    "### 05) WAP to interchange the elements on two positions entered by a user."
   ]
  },
  {
   "cell_type": "code",
   "execution_count": 7,
   "metadata": {},
   "outputs": [
    {
     "name": "stdin",
     "output_type": "stream",
     "text": [
      "Enter size :  5\n",
      "Enter postion 1 :  2\n",
      "Enter postion 2 :  3\n",
      " 14\n",
      " 17\n",
      " 15\n",
      " 16\n",
      " 12\n"
     ]
    },
    {
     "name": "stdout",
     "output_type": "stream",
     "text": [
      "First and last elemnet interchage before list:  [14, 17, 15, 16, 12]\n",
      "First and last elemnet interchage after list:  [14, 17, 16, 15, 12]\n"
     ]
    }
   ],
   "source": [
    "list5=[];\n",
    "n=int(input(\"Enter size : \"));\n",
    "pos1=int(input(\"Enter postion 1 : \"));\n",
    "pos2=int(input(\"Enter postion 2 : \"));\n",
    "for i in range(0, n) :\n",
    "\tele=int(input());\n",
    "\tlist5.append(ele);\n",
    "print(\"First and last elemnet interchage before list: \",list5);\n",
    "temp=list5[pos1];\n",
    "list5[pos1]=list5[pos2];\n",
    "list5[pos2]=temp;\n",
    "print(\"First and last elemnet interchage after list: \",list5);"
   ]
  },
  {
   "cell_type": "markdown",
   "metadata": {},
   "source": [
    "### 06) WAP to reverses the list entered by user."
   ]
  },
  {
   "cell_type": "code",
   "execution_count": 8,
   "metadata": {},
   "outputs": [
    {
     "name": "stdin",
     "output_type": "stream",
     "text": [
      "Enter size :  5\n",
      "Enter element for list: 22\n",
      "Enter element for list: 48\n",
      "Enter element for list: 56\n",
      "Enter element for list: 83\n",
      "Enter element for list: 21\n"
     ]
    },
    {
     "name": "stdout",
     "output_type": "stream",
     "text": [
      "List :  [22, 48, 56, 83, 21]\n",
      "Reverse list :  [21, 83, 56, 48, 22]\n"
     ]
    }
   ],
   "source": [
    "list6=[];\n",
    "n=int(input(\"Enter size : \"));\n",
    "for i in range(0,n) :\n",
    "\tele=int(input(\"Enter element for list:\"));\n",
    "\tlist6.append(ele);\n",
    "print(\"List : \",list6);\n",
    "list6.reverse();\n",
    "print(\"Reverse list : \",list6);"
   ]
  },
  {
   "cell_type": "markdown",
   "metadata": {},
   "source": [
    "### 07) Python program to remove multiple elements from a list using list comprehension"
   ]
  },
  {
   "cell_type": "code",
   "execution_count": 1,
   "metadata": {},
   "outputs": [
    {
     "name": "stdout",
     "output_type": "stream",
     "text": [
      "[4, 22]\n"
     ]
    }
   ],
   "source": [
    "list=[4,7,15,22,99]\n",
    "ans=[i for i in list if i%2==0]\n",
    "print(ans)"
   ]
  },
  {
   "cell_type": "markdown",
   "metadata": {},
   "source": [
    "### 08) Create a list from the specified start to end index of another list."
   ]
  },
  {
   "cell_type": "code",
   "execution_count": 2,
   "metadata": {},
   "outputs": [
    {
     "name": "stdout",
     "output_type": "stream",
     "text": [
      "[22, 87, 67]\n"
     ]
    }
   ],
   "source": [
    "list=[4,7,15,22,87,67,33,99]\n",
    "new_list=list[3:6]\n",
    "print(new_list)"
   ]
  },
  {
   "cell_type": "markdown",
   "metadata": {},
   "source": [
    "### 09) Input comma separated elements, convert into list and print."
   ]
  },
  {
   "cell_type": "code",
   "execution_count": 3,
   "metadata": {},
   "outputs": [
    {
     "name": "stdin",
     "output_type": "stream",
     "text": [
      "Enter comma seperated string: 123\n"
     ]
    },
    {
     "name": "stdout",
     "output_type": "stream",
     "text": [
      "[123]\n"
     ]
    }
   ],
   "source": [
    "s=input(\"Enter comma seperated string:\")\n",
    "list1 = s.split(',')\n",
    "list2=[]\n",
    "for i in list1:\n",
    "    list2.append(int(i))\n",
    "print(list2)"
   ]
  },
  {
   "cell_type": "markdown",
   "metadata": {},
   "source": [
    "### 01) WAP to count Even and Odd numbers in a List."
   ]
  },
  {
   "cell_type": "code",
   "execution_count": 9,
   "metadata": {},
   "outputs": [
    {
     "name": "stdin",
     "output_type": "stream",
     "text": [
      "Enter size :  5\n",
      "Enter element for list: 24\n",
      "Enter element for list: 61\n",
      "Enter element for list: 28\n",
      "Enter element for list: 21\n",
      "Enter element for list: 7\n"
     ]
    },
    {
     "name": "stdout",
     "output_type": "stream",
     "text": [
      "List is : [24, 61, 28, 21, 7]\n",
      "Even numbers in the list:  2\n",
      "Odd numbers in the list:  3\n"
     ]
    }
   ],
   "source": [
    "list10=[];\n",
    "n=int(input(\"Enter size : \"));\n",
    "for i in range(0, n) :\n",
    "\tele=int(input(\"Enter element for list:\"));\n",
    "\tlist10.append(ele);\n",
    "print(\"List is :\",list10);\n",
    "even_count=0;\n",
    "odd_count=0;\n",
    "for i in list10 :\n",
    "    if i%2==0 :\n",
    "        even_count+=1;\n",
    "    else :\n",
    "        odd_count+=1;\n",
    "print(\"Even numbers in the list: \",even_count);\n",
    "print(\"Odd numbers in the list: \",odd_count);"
   ]
  },
  {
   "cell_type": "markdown",
   "metadata": {},
   "source": [
    "### 02) Python program to find N largest and smallest elements from the list"
   ]
  },
  {
   "cell_type": "code",
   "execution_count": 4,
   "metadata": {},
   "outputs": [
    {
     "name": "stdin",
     "output_type": "stream",
     "text": [
      "enter size: 5\n",
      "enter value: 1\n",
      "enter value: 5\n",
      "enter value: 9\n",
      "enter value: 7\n",
      "enter value: 4\n",
      "enter number: 3\n"
     ]
    },
    {
     "name": "stdout",
     "output_type": "stream",
     "text": [
      "[1, 4, 5] [5, 7, 9]\n"
     ]
    }
   ],
   "source": [
    "l1=[]\n",
    "size=int(input(\"enter size:\"))\n",
    "for i in range(size):\n",
    "    l1.append(int(input(\"enter value:\")))\n",
    "\n",
    "num=int(input(\"enter number:\"))\n",
    "l1.sort()\n",
    "print(l1[:num],l1[-num:])"
   ]
  },
  {
   "cell_type": "markdown",
   "metadata": {},
   "source": [
    "### 03) WAP to print duplicates from a list of integers"
   ]
  },
  {
   "cell_type": "code",
   "execution_count": 5,
   "metadata": {},
   "outputs": [
    {
     "name": "stdout",
     "output_type": "stream",
     "text": [
      "[1, 3, 2, 4]\n"
     ]
    }
   ],
   "source": [
    "list=[1,3,2,3,4,1,2,3]\n",
    "new_list=[]\n",
    "for i in list:\n",
    "    if i not in new_list:\n",
    "        new_list.append(i)\n",
    "print(new_list)"
   ]
  },
  {
   "cell_type": "code",
   "execution_count": null,
   "metadata": {},
   "outputs": [],
   "source": []
  }
 ],
 "metadata": {
  "kernelspec": {
   "display_name": "Python 3 (ipykernel)",
   "language": "python",
   "name": "python3"
  },
  "language_info": {
   "codemirror_mode": {
    "name": "ipython",
    "version": 3
   },
   "file_extension": ".py",
   "mimetype": "text/x-python",
   "name": "python",
   "nbconvert_exporter": "python",
   "pygments_lexer": "ipython3",
   "version": "3.12.1"
  }
 },
 "nbformat": 4,
 "nbformat_minor": 4
}
